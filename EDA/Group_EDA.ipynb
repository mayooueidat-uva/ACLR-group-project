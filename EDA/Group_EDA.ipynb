{
 "cells": [
  {
   "cell_type": "markdown",
   "metadata": {},
   "source": [
    "# ACLR Data Group Exploratory Data Analysis\n",
    "### Jessica Ni, Maya Uwaydat, Wissal Khlouf"
   ]
  },
  {
   "cell_type": "markdown",
   "metadata": {},
   "source": [
    "## Audience/Stakeholder"
   ]
  },
  {
   "cell_type": "markdown",
   "metadata": {},
   "source": [
    "..."
   ]
  },
  {
   "cell_type": "markdown",
   "metadata": {},
   "source": [
    "## Problem Statement"
   ]
  },
  {
   "cell_type": "markdown",
   "metadata": {},
   "source": [
    "..."
   ]
  },
  {
   "cell_type": "markdown",
   "metadata": {},
   "source": [
    "## Important Variables"
   ]
  },
  {
   "cell_type": "markdown",
   "metadata": {},
   "source": [
    "..."
   ]
  },
  {
   "cell_type": "markdown",
   "metadata": {},
   "source": [
    "## Understanding and Cleaning Dataset"
   ]
  },
  {
   "cell_type": "code",
   "execution_count": 190,
   "metadata": {},
   "outputs": [],
   "source": [
    "# import libraries\n",
    "import matplotlib.pyplot as plt\n",
    "import pandas as pd\n",
    "import numpy as np\n",
    "import seaborn as sns"
   ]
  },
  {
   "cell_type": "code",
   "execution_count": 191,
   "metadata": {},
   "outputs": [
    {
     "data": {
      "text/html": [
       "<div>\n",
       "<style scoped>\n",
       "    .dataframe tbody tr th:only-of-type {\n",
       "        vertical-align: middle;\n",
       "    }\n",
       "\n",
       "    .dataframe tbody tr th {\n",
       "        vertical-align: top;\n",
       "    }\n",
       "\n",
       "    .dataframe thead th {\n",
       "        text-align: right;\n",
       "    }\n",
       "</style>\n",
       "<table border=\"1\" class=\"dataframe\">\n",
       "  <thead>\n",
       "    <tr style=\"text-align: right;\">\n",
       "      <th></th>\n",
       "      <th>record_id</th>\n",
       "      <th>redcap_event_name</th>\n",
       "      <th>redcap_repeat_instrument</th>\n",
       "      <th>sex_dashboard</th>\n",
       "      <th>graft_dashboard2</th>\n",
       "      <th>med_meniscus</th>\n",
       "      <th>lat_meniscus</th>\n",
       "      <th>lat_stab</th>\n",
       "      <th>physis</th>\n",
       "      <th>visit_sex</th>\n",
       "      <th>...</th>\n",
       "      <th>lsi_flex_mvic_60</th>\n",
       "      <th>acl_ext_isok_60</th>\n",
       "      <th>con_ext_isok_60</th>\n",
       "      <th>lsi_ext_isok_60</th>\n",
       "      <th>acl_flex_isok_60</th>\n",
       "      <th>con_flex_isok_60</th>\n",
       "      <th>lsi_flex_isok_60</th>\n",
       "      <th>strength_testing_complete</th>\n",
       "      <th>rts</th>\n",
       "      <th>rts_tss</th>\n",
       "    </tr>\n",
       "  </thead>\n",
       "  <tbody>\n",
       "    <tr>\n",
       "      <th>0</th>\n",
       "      <td>1</td>\n",
       "      <td>baseline_arm_1</td>\n",
       "      <td>NaN</td>\n",
       "      <td>Male</td>\n",
       "      <td>Other</td>\n",
       "      <td>NaN</td>\n",
       "      <td>NaN</td>\n",
       "      <td>NaN</td>\n",
       "      <td>NaN</td>\n",
       "      <td>NaN</td>\n",
       "      <td>...</td>\n",
       "      <td>NaN</td>\n",
       "      <td>NaN</td>\n",
       "      <td>NaN</td>\n",
       "      <td>NaN</td>\n",
       "      <td>NaN</td>\n",
       "      <td>NaN</td>\n",
       "      <td>NaN</td>\n",
       "      <td>NaN</td>\n",
       "      <td>NaN</td>\n",
       "      <td>NaN</td>\n",
       "    </tr>\n",
       "    <tr>\n",
       "      <th>1</th>\n",
       "      <td>1</td>\n",
       "      <td>visit_1_arm_1</td>\n",
       "      <td>NaN</td>\n",
       "      <td>NaN</td>\n",
       "      <td>NaN</td>\n",
       "      <td>NaN</td>\n",
       "      <td>NaN</td>\n",
       "      <td>NaN</td>\n",
       "      <td>NaN</td>\n",
       "      <td>Male</td>\n",
       "      <td>...</td>\n",
       "      <td>NaN</td>\n",
       "      <td>2.57</td>\n",
       "      <td>2.92</td>\n",
       "      <td>87.86</td>\n",
       "      <td>1.50</td>\n",
       "      <td>1.45</td>\n",
       "      <td>103.32</td>\n",
       "      <td>2.0</td>\n",
       "      <td>NaN</td>\n",
       "      <td>NaN</td>\n",
       "    </tr>\n",
       "    <tr>\n",
       "      <th>2</th>\n",
       "      <td>1</td>\n",
       "      <td>long_term_outcomes_arm_1</td>\n",
       "      <td>NaN</td>\n",
       "      <td>NaN</td>\n",
       "      <td>NaN</td>\n",
       "      <td>NaN</td>\n",
       "      <td>NaN</td>\n",
       "      <td>NaN</td>\n",
       "      <td>NaN</td>\n",
       "      <td>NaN</td>\n",
       "      <td>...</td>\n",
       "      <td>NaN</td>\n",
       "      <td>NaN</td>\n",
       "      <td>NaN</td>\n",
       "      <td>NaN</td>\n",
       "      <td>NaN</td>\n",
       "      <td>NaN</td>\n",
       "      <td>NaN</td>\n",
       "      <td>NaN</td>\n",
       "      <td>3.0</td>\n",
       "      <td>70.0</td>\n",
       "    </tr>\n",
       "    <tr>\n",
       "      <th>3</th>\n",
       "      <td>2</td>\n",
       "      <td>baseline_arm_1</td>\n",
       "      <td>NaN</td>\n",
       "      <td>Female</td>\n",
       "      <td>HS autograft</td>\n",
       "      <td>1.0</td>\n",
       "      <td>3.0</td>\n",
       "      <td>1.0</td>\n",
       "      <td>NaN</td>\n",
       "      <td>NaN</td>\n",
       "      <td>...</td>\n",
       "      <td>NaN</td>\n",
       "      <td>NaN</td>\n",
       "      <td>NaN</td>\n",
       "      <td>NaN</td>\n",
       "      <td>NaN</td>\n",
       "      <td>NaN</td>\n",
       "      <td>NaN</td>\n",
       "      <td>NaN</td>\n",
       "      <td>NaN</td>\n",
       "      <td>NaN</td>\n",
       "    </tr>\n",
       "    <tr>\n",
       "      <th>4</th>\n",
       "      <td>2</td>\n",
       "      <td>visit_1_arm_1</td>\n",
       "      <td>NaN</td>\n",
       "      <td>NaN</td>\n",
       "      <td>NaN</td>\n",
       "      <td>NaN</td>\n",
       "      <td>NaN</td>\n",
       "      <td>NaN</td>\n",
       "      <td>NaN</td>\n",
       "      <td>Female</td>\n",
       "      <td>...</td>\n",
       "      <td>NaN</td>\n",
       "      <td>0.97</td>\n",
       "      <td>2.16</td>\n",
       "      <td>45.00</td>\n",
       "      <td>0.88</td>\n",
       "      <td>1.20</td>\n",
       "      <td>72.98</td>\n",
       "      <td>2.0</td>\n",
       "      <td>NaN</td>\n",
       "      <td>NaN</td>\n",
       "    </tr>\n",
       "  </tbody>\n",
       "</table>\n",
       "<p>5 rows × 63 columns</p>\n",
       "</div>"
      ],
      "text/plain": [
       "   record_id         redcap_event_name  redcap_repeat_instrument  \\\n",
       "0          1            baseline_arm_1                       NaN   \n",
       "1          1             visit_1_arm_1                       NaN   \n",
       "2          1  long_term_outcomes_arm_1                       NaN   \n",
       "3          2            baseline_arm_1                       NaN   \n",
       "4          2             visit_1_arm_1                       NaN   \n",
       "\n",
       "  sex_dashboard graft_dashboard2  med_meniscus  lat_meniscus  lat_stab  \\\n",
       "0          Male            Other           NaN           NaN       NaN   \n",
       "1           NaN              NaN           NaN           NaN       NaN   \n",
       "2           NaN              NaN           NaN           NaN       NaN   \n",
       "3        Female     HS autograft           1.0           3.0       1.0   \n",
       "4           NaN              NaN           NaN           NaN       NaN   \n",
       "\n",
       "   physis visit_sex  ... lsi_flex_mvic_60  acl_ext_isok_60  con_ext_isok_60  \\\n",
       "0     NaN       NaN  ...              NaN              NaN              NaN   \n",
       "1     NaN      Male  ...              NaN             2.57             2.92   \n",
       "2     NaN       NaN  ...              NaN              NaN              NaN   \n",
       "3     NaN       NaN  ...              NaN              NaN              NaN   \n",
       "4     NaN    Female  ...              NaN             0.97             2.16   \n",
       "\n",
       "   lsi_ext_isok_60 acl_flex_isok_60  con_flex_isok_60  lsi_flex_isok_60  \\\n",
       "0              NaN              NaN               NaN               NaN   \n",
       "1            87.86             1.50              1.45            103.32   \n",
       "2              NaN              NaN               NaN               NaN   \n",
       "3              NaN              NaN               NaN               NaN   \n",
       "4            45.00             0.88              1.20             72.98   \n",
       "\n",
       "   strength_testing_complete  rts rts_tss  \n",
       "0                        NaN  NaN     NaN  \n",
       "1                        2.0  NaN     NaN  \n",
       "2                        NaN  3.0    70.0  \n",
       "3                        NaN  NaN     NaN  \n",
       "4                        2.0  NaN     NaN  \n",
       "\n",
       "[5 rows x 63 columns]"
      ]
     },
     "execution_count": 191,
     "metadata": {},
     "output_type": "execute_result"
    }
   ],
   "source": [
    "# Load in data\n",
    "data = pd.read_csv('../data/aclr_data.csv')\n",
    "data.head()"
   ]
  },
  {
   "cell_type": "code",
   "execution_count": 192,
   "metadata": {},
   "outputs": [
    {
     "data": {
      "text/plain": [
       "(11150, 63)"
      ]
     },
     "execution_count": 192,
     "metadata": {},
     "output_type": "execute_result"
    }
   ],
   "source": [
    "# Lets see the shape\n",
    "data.shape\n",
    "# Wow, there are 11150 observations and 63 features"
   ]
  },
  {
   "cell_type": "code",
   "execution_count": 193,
   "metadata": {},
   "outputs": [
    {
     "name": "stdout",
     "output_type": "stream",
     "text": [
      "4739\n"
     ]
    },
    {
     "data": {
      "text/html": [
       "<div>\n",
       "<style scoped>\n",
       "    .dataframe tbody tr th:only-of-type {\n",
       "        vertical-align: middle;\n",
       "    }\n",
       "\n",
       "    .dataframe tbody tr th {\n",
       "        vertical-align: top;\n",
       "    }\n",
       "\n",
       "    .dataframe thead th {\n",
       "        text-align: right;\n",
       "    }\n",
       "</style>\n",
       "<table border=\"1\" class=\"dataframe\">\n",
       "  <thead>\n",
       "    <tr style=\"text-align: right;\">\n",
       "      <th></th>\n",
       "      <th>count</th>\n",
       "    </tr>\n",
       "  </thead>\n",
       "  <tbody>\n",
       "    <tr>\n",
       "      <th>count</th>\n",
       "      <td>4739.000000</td>\n",
       "    </tr>\n",
       "    <tr>\n",
       "      <th>mean</th>\n",
       "      <td>2.352817</td>\n",
       "    </tr>\n",
       "    <tr>\n",
       "      <th>std</th>\n",
       "      <td>1.147803</td>\n",
       "    </tr>\n",
       "    <tr>\n",
       "      <th>min</th>\n",
       "      <td>1.000000</td>\n",
       "    </tr>\n",
       "    <tr>\n",
       "      <th>25%</th>\n",
       "      <td>2.000000</td>\n",
       "    </tr>\n",
       "    <tr>\n",
       "      <th>50%</th>\n",
       "      <td>2.000000</td>\n",
       "    </tr>\n",
       "    <tr>\n",
       "      <th>75%</th>\n",
       "      <td>3.000000</td>\n",
       "    </tr>\n",
       "    <tr>\n",
       "      <th>max</th>\n",
       "      <td>17.000000</td>\n",
       "    </tr>\n",
       "  </tbody>\n",
       "</table>\n",
       "</div>"
      ],
      "text/plain": [
       "             count\n",
       "count  4739.000000\n",
       "mean      2.352817\n",
       "std       1.147803\n",
       "min       1.000000\n",
       "25%       2.000000\n",
       "50%       2.000000\n",
       "75%       3.000000\n",
       "max      17.000000"
      ]
     },
     "metadata": {},
     "output_type": "display_data"
    }
   ],
   "source": [
    "# That is a lot of observations, are there 11150 separate patients?\n",
    "print(data['record_id'].nunique())\n",
    "results1 = data['record_id'].value_counts().describe()\n",
    "\n",
    "table = pd.DataFrame(results1) # this will show the results as a table format\n",
    "display(table) \n",
    "\n",
    "# I see that there are 4739 unique patients and each patient may have multiple entries\n",
    "# Subjects have an average of 2 visits"
   ]
  },
  {
   "cell_type": "code",
   "execution_count": 194,
   "metadata": {},
   "outputs": [
    {
     "data": {
      "text/html": [
       "<div>\n",
       "<style scoped>\n",
       "    .dataframe tbody tr th:only-of-type {\n",
       "        vertical-align: middle;\n",
       "    }\n",
       "\n",
       "    .dataframe tbody tr th {\n",
       "        vertical-align: top;\n",
       "    }\n",
       "\n",
       "    .dataframe thead th {\n",
       "        text-align: right;\n",
       "    }\n",
       "</style>\n",
       "<table border=\"1\" class=\"dataframe\">\n",
       "  <thead>\n",
       "    <tr style=\"text-align: right;\">\n",
       "      <th></th>\n",
       "      <th>redcap_event_name</th>\n",
       "      <th>sex_dashboard</th>\n",
       "      <th>graft_dashboard2</th>\n",
       "      <th>visit_sex</th>\n",
       "      <th>visit_graft</th>\n",
       "      <th>age_group_dashboard_use</th>\n",
       "      <th>tss_dashboard</th>\n",
       "      <th>reinjury</th>\n",
       "    </tr>\n",
       "  </thead>\n",
       "  <tbody>\n",
       "    <tr>\n",
       "      <th>0</th>\n",
       "      <td>baseline_arm_1</td>\n",
       "      <td>Male</td>\n",
       "      <td>Other</td>\n",
       "      <td>NaN</td>\n",
       "      <td>NaN</td>\n",
       "      <td>NaN</td>\n",
       "      <td>NaN</td>\n",
       "      <td>NaN</td>\n",
       "    </tr>\n",
       "    <tr>\n",
       "      <th>1</th>\n",
       "      <td>visit_1_arm_1</td>\n",
       "      <td>NaN</td>\n",
       "      <td>NaN</td>\n",
       "      <td>Male</td>\n",
       "      <td>Other</td>\n",
       "      <td>21 to 25 years</td>\n",
       "      <td>13 to 24 months</td>\n",
       "      <td>No</td>\n",
       "    </tr>\n",
       "    <tr>\n",
       "      <th>2</th>\n",
       "      <td>long_term_outcomes_arm_1</td>\n",
       "      <td>NaN</td>\n",
       "      <td>NaN</td>\n",
       "      <td>NaN</td>\n",
       "      <td>NaN</td>\n",
       "      <td>NaN</td>\n",
       "      <td>NaN</td>\n",
       "      <td>NaN</td>\n",
       "    </tr>\n",
       "  </tbody>\n",
       "</table>\n",
       "</div>"
      ],
      "text/plain": [
       "          redcap_event_name sex_dashboard graft_dashboard2 visit_sex  \\\n",
       "0            baseline_arm_1          Male            Other       NaN   \n",
       "1             visit_1_arm_1           NaN              NaN      Male   \n",
       "2  long_term_outcomes_arm_1           NaN              NaN       NaN   \n",
       "\n",
       "  visit_graft age_group_dashboard_use    tss_dashboard reinjury  \n",
       "0         NaN                     NaN              NaN      NaN  \n",
       "1       Other          21 to 25 years  13 to 24 months       No  \n",
       "2         NaN                     NaN              NaN      NaN  "
      ]
     },
     "execution_count": 194,
     "metadata": {},
     "output_type": "execute_result"
    }
   ],
   "source": [
    "# Lets try to see what variable types we are working with\n",
    "# This will show all variables that are categorical\n",
    "\n",
    "data.select_dtypes(include=['object', 'category', 'string']).head(n=3)"
   ]
  },
  {
   "cell_type": "code",
   "execution_count": 195,
   "metadata": {},
   "outputs": [
    {
     "data": {
      "text/html": [
       "<div>\n",
       "<style scoped>\n",
       "    .dataframe tbody tr th:only-of-type {\n",
       "        vertical-align: middle;\n",
       "    }\n",
       "\n",
       "    .dataframe tbody tr th {\n",
       "        vertical-align: top;\n",
       "    }\n",
       "\n",
       "    .dataframe thead th {\n",
       "        text-align: right;\n",
       "    }\n",
       "</style>\n",
       "<table border=\"1\" class=\"dataframe\">\n",
       "  <thead>\n",
       "    <tr style=\"text-align: right;\">\n",
       "      <th></th>\n",
       "      <th>record_id</th>\n",
       "      <th>redcap_repeat_instrument</th>\n",
       "      <th>med_meniscus</th>\n",
       "      <th>lat_meniscus</th>\n",
       "      <th>lat_stab</th>\n",
       "      <th>physis</th>\n",
       "      <th>age</th>\n",
       "      <th>age_group</th>\n",
       "      <th>age_group_dashboard</th>\n",
       "      <th>height_m</th>\n",
       "      <th>...</th>\n",
       "      <th>lsi_flex_mvic_60</th>\n",
       "      <th>acl_ext_isok_60</th>\n",
       "      <th>con_ext_isok_60</th>\n",
       "      <th>lsi_ext_isok_60</th>\n",
       "      <th>acl_flex_isok_60</th>\n",
       "      <th>con_flex_isok_60</th>\n",
       "      <th>lsi_flex_isok_60</th>\n",
       "      <th>strength_testing_complete</th>\n",
       "      <th>rts</th>\n",
       "      <th>rts_tss</th>\n",
       "    </tr>\n",
       "  </thead>\n",
       "  <tbody>\n",
       "    <tr>\n",
       "      <th>0</th>\n",
       "      <td>1</td>\n",
       "      <td>NaN</td>\n",
       "      <td>NaN</td>\n",
       "      <td>NaN</td>\n",
       "      <td>NaN</td>\n",
       "      <td>NaN</td>\n",
       "      <td>NaN</td>\n",
       "      <td>NaN</td>\n",
       "      <td>NaN</td>\n",
       "      <td>NaN</td>\n",
       "      <td>...</td>\n",
       "      <td>NaN</td>\n",
       "      <td>NaN</td>\n",
       "      <td>NaN</td>\n",
       "      <td>NaN</td>\n",
       "      <td>NaN</td>\n",
       "      <td>NaN</td>\n",
       "      <td>NaN</td>\n",
       "      <td>NaN</td>\n",
       "      <td>NaN</td>\n",
       "      <td>NaN</td>\n",
       "    </tr>\n",
       "    <tr>\n",
       "      <th>1</th>\n",
       "      <td>1</td>\n",
       "      <td>NaN</td>\n",
       "      <td>NaN</td>\n",
       "      <td>NaN</td>\n",
       "      <td>NaN</td>\n",
       "      <td>NaN</td>\n",
       "      <td>21.7</td>\n",
       "      <td>5.0</td>\n",
       "      <td>5.0</td>\n",
       "      <td>1.9</td>\n",
       "      <td>...</td>\n",
       "      <td>NaN</td>\n",
       "      <td>2.57</td>\n",
       "      <td>2.92</td>\n",
       "      <td>87.86</td>\n",
       "      <td>1.5</td>\n",
       "      <td>1.45</td>\n",
       "      <td>103.32</td>\n",
       "      <td>2.0</td>\n",
       "      <td>NaN</td>\n",
       "      <td>NaN</td>\n",
       "    </tr>\n",
       "    <tr>\n",
       "      <th>2</th>\n",
       "      <td>1</td>\n",
       "      <td>NaN</td>\n",
       "      <td>NaN</td>\n",
       "      <td>NaN</td>\n",
       "      <td>NaN</td>\n",
       "      <td>NaN</td>\n",
       "      <td>NaN</td>\n",
       "      <td>NaN</td>\n",
       "      <td>NaN</td>\n",
       "      <td>NaN</td>\n",
       "      <td>...</td>\n",
       "      <td>NaN</td>\n",
       "      <td>NaN</td>\n",
       "      <td>NaN</td>\n",
       "      <td>NaN</td>\n",
       "      <td>NaN</td>\n",
       "      <td>NaN</td>\n",
       "      <td>NaN</td>\n",
       "      <td>NaN</td>\n",
       "      <td>3.0</td>\n",
       "      <td>70.0</td>\n",
       "    </tr>\n",
       "  </tbody>\n",
       "</table>\n",
       "<p>3 rows × 55 columns</p>\n",
       "</div>"
      ],
      "text/plain": [
       "   record_id  redcap_repeat_instrument  med_meniscus  lat_meniscus  lat_stab  \\\n",
       "0          1                       NaN           NaN           NaN       NaN   \n",
       "1          1                       NaN           NaN           NaN       NaN   \n",
       "2          1                       NaN           NaN           NaN       NaN   \n",
       "\n",
       "   physis   age  age_group  age_group_dashboard  height_m  ...  \\\n",
       "0     NaN   NaN        NaN                  NaN       NaN  ...   \n",
       "1     NaN  21.7        5.0                  5.0       1.9  ...   \n",
       "2     NaN   NaN        NaN                  NaN       NaN  ...   \n",
       "\n",
       "   lsi_flex_mvic_60  acl_ext_isok_60  con_ext_isok_60  lsi_ext_isok_60  \\\n",
       "0               NaN              NaN              NaN              NaN   \n",
       "1               NaN             2.57             2.92            87.86   \n",
       "2               NaN              NaN              NaN              NaN   \n",
       "\n",
       "   acl_flex_isok_60  con_flex_isok_60  lsi_flex_isok_60  \\\n",
       "0               NaN               NaN               NaN   \n",
       "1               1.5              1.45            103.32   \n",
       "2               NaN               NaN               NaN   \n",
       "\n",
       "   strength_testing_complete  rts  rts_tss  \n",
       "0                        NaN  NaN      NaN  \n",
       "1                        2.0  NaN      NaN  \n",
       "2                        NaN  3.0     70.0  \n",
       "\n",
       "[3 rows x 55 columns]"
      ]
     },
     "execution_count": 195,
     "metadata": {},
     "output_type": "execute_result"
    }
   ],
   "source": [
    "# This will show the variables that are numerical/continuous\n",
    "\n",
    "data.select_dtypes(include=['int64', 'float64']).head(n=3)"
   ]
  },
  {
   "cell_type": "code",
   "execution_count": 196,
   "metadata": {},
   "outputs": [],
   "source": [
    "# First, let's keep only the columns we are interested in\n",
    "data = data[['record_id', 'redcap_event_name', 'sex_dashboard', 'visit_sex', 'age', 'age_group', 'acl_rsi', 'lsi_ext_isok_60', 'lsi_flex_isok_60', 'acl_sh', 'rts', 'rts_tss']]"
   ]
  },
  {
   "cell_type": "code",
   "execution_count": 197,
   "metadata": {},
   "outputs": [
    {
     "name": "stdout",
     "output_type": "stream",
     "text": [
      "<class 'pandas.core.frame.DataFrame'>\n",
      "RangeIndex: 11150 entries, 0 to 11149\n",
      "Data columns (total 12 columns):\n",
      " #   Column             Non-Null Count  Dtype  \n",
      "---  ------             --------------  -----  \n",
      " 0   record_id          11150 non-null  int64  \n",
      " 1   redcap_event_name  11150 non-null  object \n",
      " 2   sex_dashboard      4737 non-null   object \n",
      " 3   visit_sex          5234 non-null   object \n",
      " 4   age                5126 non-null   float64\n",
      " 5   age_group          5126 non-null   float64\n",
      " 6   acl_rsi            3400 non-null   float64\n",
      " 7   lsi_ext_isok_60    2227 non-null   float64\n",
      " 8   lsi_flex_isok_60   2222 non-null   float64\n",
      " 9   acl_sh             2444 non-null   float64\n",
      " 10  rts                686 non-null    float64\n",
      " 11  rts_tss            671 non-null    float64\n",
      "dtypes: float64(8), int64(1), object(3)\n",
      "memory usage: 1.0+ MB\n"
     ]
    }
   ],
   "source": [
    "# Let's make sure all the columns are the correct data type\n",
    "data.info()"
   ]
  },
  {
   "cell_type": "code",
   "execution_count": 198,
   "metadata": {},
   "outputs": [
    {
     "data": {
      "text/plain": [
       "record_id                0\n",
       "redcap_event_name        0\n",
       "sex_dashboard         6413\n",
       "visit_sex             5916\n",
       "age                   6024\n",
       "age_group             6024\n",
       "acl_rsi               7750\n",
       "lsi_ext_isok_60       8923\n",
       "lsi_flex_isok_60      8928\n",
       "acl_sh                8706\n",
       "rts                  10464\n",
       "rts_tss              10479\n",
       "dtype: int64"
      ]
     },
     "execution_count": 198,
     "metadata": {},
     "output_type": "execute_result"
    }
   ],
   "source": [
    "# Let's spot missing values\n",
    "data.isnull().sum()"
   ]
  },
  {
   "cell_type": "code",
   "execution_count": 199,
   "metadata": {},
   "outputs": [
    {
     "data": {
      "text/plain": [
       "<Axes: >"
      ]
     },
     "execution_count": 199,
     "metadata": {},
     "output_type": "execute_result"
    },
    {
     "data": {
      "image/png": "[encoded data removed]",
      "text/plain": [
       "<Figure size 640x480 with 2 Axes>"
      ]
     },
     "metadata": {},
     "output_type": "display_data"
    }
   ],
   "source": [
    "# Let's visually see where the missing values lie\n",
    "sns.heatmap(data.isnull(), cmap='viridis', yticklabels=False)\n",
    "\n",
    "# The yellow values show missing information.\n",
    "# Record id and event description have no missing values\n",
    "# It seems that many of the numerical measurements are missing, likely because there are multiple entries per subject."
   ]
  },
  {
   "cell_type": "code",
   "execution_count": 200,
   "metadata": {},
   "outputs": [],
   "source": [
    "# Let's start by filling data that is already known based on the subject's first entry\n",
    "\n",
    "# Since we know that there are multiple entries per subject and each entry has at least an id associated with it, \n",
    "# I will start by filling in known cells, such as the sex based on the first occurrence \n",
    "\n",
    "# Here, for each patient, I filled in sex based on the sex listed in their first visit\n",
    "\n",
    "data['sex_dashboard'] = data.groupby('record_id')['sex_dashboard'].transform('first')\n",
    "data['sex_dashboard'] = data['sex_dashboard'].fillna('Unknown')"
   ]
  },
  {
   "cell_type": "code",
   "execution_count": 201,
   "metadata": {},
   "outputs": [],
   "source": [
    "# Next, I noticed that within the event column, the first event called baseline_arm_1 has missing values for everything except the patient's sex,\n",
    "# So, I will remove all of those observations since we already filled in sex in the code chunk above\n",
    "data[data['redcap_event_name'] == 'baseline_arm_1'].head()\n",
    "\n",
    "data = data[data['redcap_event_name'] != 'baseline_arm_1']"
   ]
  },
  {
   "cell_type": "code",
   "execution_count": 202,
   "metadata": {},
   "outputs": [],
   "source": [
    "# Additionally, where there is an event called long_term_outcomes_arm_1, it just includes two pieces of information called rts (return to sport) \n",
    "# and rts_tss, so I will move those values to its own dataframe if needed later\n",
    "data = data.drop(columns=['rts', 'rts_tss'])\n",
    "\n",
    "rts_df = data[data['redcap_event_name'] == 'long_term_outcomes_arm_1']\n",
    "data = data[data['redcap_event_name'] != 'long_term_outcomes_arm_1']"
   ]
  },
  {
   "cell_type": "code",
   "execution_count": 185,
   "metadata": {},
   "outputs": [],
   "source": [
    "# Drop extra sex column\n",
    "data = data.drop(columns=['visit_sex'])"
   ]
  },
  {
   "cell_type": "code",
   "execution_count": 204,
   "metadata": {},
   "outputs": [
    {
     "data": {
      "text/plain": [
       "False    5239\n",
       "Name: count, dtype: int64"
      ]
     },
     "execution_count": 204,
     "metadata": {},
     "output_type": "execute_result"
    }
   ],
   "source": [
    "# Let's make sure nothing is duplicated\n",
    "data.duplicated().value_counts()"
   ]
  },
  {
   "cell_type": "code",
   "execution_count": 205,
   "metadata": {},
   "outputs": [
    {
     "data": {
      "text/plain": [
       "<Axes: >"
      ]
     },
     "execution_count": 205,
     "metadata": {},
     "output_type": "execute_result"
    },
    {
     "data": {
      "image/png": "[encoded data removed]",
      "text/plain": [
       "<Figure size 640x480 with 2 Axes>"
      ]
     },
     "metadata": {},
     "output_type": "display_data"
    }
   ],
   "source": [
    "# Let's check how the missing values look now! \n",
    "sns.heatmap(data.isnull(), cmap='viridis', yticklabels=False)\n",
    "# It looks much better, "
   ]
  },
  {
   "cell_type": "markdown",
   "metadata": {},
   "source": [
    "Since our dataset is longitudinal and patients come in at irregular time intervals, missing values for certain tests (like LSI or hop tests) at specific visits is very common. The missing data isn't random, it's structural because not all tests are performed at each visit. \n",
    "\n",
    "For this reason, we have decided to leave missing values without imputing them, as imputing may distort the true patterns of recovery. Usually, test values should get better as a patient is recovering, but if we imputed with mean values, that may distort the pattern of recovery. Not imputing helps us avoid making assumptions about missing data.\n",
    "\n",
    "Additionally, missing data may signify patient recovery. If a patient skips a test, that may mean they are recovering at a pace in which the test is not needed."
   ]
  },
  {
   "cell_type": "code",
   "execution_count": 207,
   "metadata": {},
   "outputs": [
    {
     "data": {
      "text/html": [
       "<div>\n",
       "<style scoped>\n",
       "    .dataframe tbody tr th:only-of-type {\n",
       "        vertical-align: middle;\n",
       "    }\n",
       "\n",
       "    .dataframe tbody tr th {\n",
       "        vertical-align: top;\n",
       "    }\n",
       "\n",
       "    .dataframe thead th {\n",
       "        text-align: right;\n",
       "    }\n",
       "</style>\n",
       "<table border=\"1\" class=\"dataframe\">\n",
       "  <thead>\n",
       "    <tr style=\"text-align: right;\">\n",
       "      <th></th>\n",
       "      <th>record_id</th>\n",
       "      <th>redcap_event_name</th>\n",
       "      <th>sex_dashboard</th>\n",
       "      <th>visit_sex</th>\n",
       "      <th>age</th>\n",
       "      <th>age_group</th>\n",
       "      <th>acl_rsi</th>\n",
       "      <th>lsi_ext_isok_60</th>\n",
       "      <th>lsi_flex_isok_60</th>\n",
       "      <th>acl_sh</th>\n",
       "    </tr>\n",
       "  </thead>\n",
       "  <tbody>\n",
       "    <tr>\n",
       "      <th>5</th>\n",
       "      <td>2</td>\n",
       "      <td>visit_2_arm_1</td>\n",
       "      <td>Female</td>\n",
       "      <td>Female</td>\n",
       "      <td>14.6</td>\n",
       "      <td>2.0</td>\n",
       "      <td>95.0</td>\n",
       "      <td>NaN</td>\n",
       "      <td>NaN</td>\n",
       "      <td>1.09</td>\n",
       "    </tr>\n",
       "    <tr>\n",
       "      <th>6</th>\n",
       "      <td>2</td>\n",
       "      <td>visit_3_arm_1</td>\n",
       "      <td>Female</td>\n",
       "      <td>Female</td>\n",
       "      <td>15.6</td>\n",
       "      <td>3.0</td>\n",
       "      <td>92.5</td>\n",
       "      <td>NaN</td>\n",
       "      <td>NaN</td>\n",
       "      <td>NaN</td>\n",
       "    </tr>\n",
       "    <tr>\n",
       "      <th>58</th>\n",
       "      <td>17</td>\n",
       "      <td>visit_3_arm_1</td>\n",
       "      <td>Male</td>\n",
       "      <td>Male</td>\n",
       "      <td>17.7</td>\n",
       "      <td>3.0</td>\n",
       "      <td>82.5</td>\n",
       "      <td>NaN</td>\n",
       "      <td>NaN</td>\n",
       "      <td>1.91</td>\n",
       "    </tr>\n",
       "    <tr>\n",
       "      <th>67</th>\n",
       "      <td>20</td>\n",
       "      <td>visit_2_arm_1</td>\n",
       "      <td>Female</td>\n",
       "      <td>Female</td>\n",
       "      <td>21.4</td>\n",
       "      <td>5.0</td>\n",
       "      <td>85.8</td>\n",
       "      <td>NaN</td>\n",
       "      <td>NaN</td>\n",
       "      <td>NaN</td>\n",
       "    </tr>\n",
       "    <tr>\n",
       "      <th>71</th>\n",
       "      <td>21</td>\n",
       "      <td>visit_2_arm_1</td>\n",
       "      <td>Female</td>\n",
       "      <td>Female</td>\n",
       "      <td>19.1</td>\n",
       "      <td>4.0</td>\n",
       "      <td>96.7</td>\n",
       "      <td>NaN</td>\n",
       "      <td>NaN</td>\n",
       "      <td>NaN</td>\n",
       "    </tr>\n",
       "  </tbody>\n",
       "</table>\n",
       "</div>"
      ],
      "text/plain": [
       "    record_id redcap_event_name sex_dashboard visit_sex   age  age_group  \\\n",
       "5           2     visit_2_arm_1        Female    Female  14.6        2.0   \n",
       "6           2     visit_3_arm_1        Female    Female  15.6        3.0   \n",
       "58         17     visit_3_arm_1          Male      Male  17.7        3.0   \n",
       "67         20     visit_2_arm_1        Female    Female  21.4        5.0   \n",
       "71         21     visit_2_arm_1        Female    Female  19.1        4.0   \n",
       "\n",
       "    acl_rsi  lsi_ext_isok_60  lsi_flex_isok_60  acl_sh  \n",
       "5      95.0              NaN               NaN    1.09  \n",
       "6      92.5              NaN               NaN     NaN  \n",
       "58     82.5              NaN               NaN    1.91  \n",
       "67     85.8              NaN               NaN     NaN  \n",
       "71     96.7              NaN               NaN     NaN  "
      ]
     },
     "execution_count": 207,
     "metadata": {},
     "output_type": "execute_result"
    }
   ],
   "source": [
    "data[data['lsi_ext_isok_60'].isna()].head()"
   ]
  },
  {
   "cell_type": "markdown",
   "metadata": {},
   "source": [
    "To look into this idea some more, in the above table, we can see that there are missing values for limb symmetry index. But upon closer looks, it seems that the patient does not perform every test each doctor's visit. We can see that even though one test is missing, other tests like the acl_rsi (readiness to return to sport) or acl_sh (single hop test) are filled."
   ]
  }
 ],
 "metadata": {
  "kernelspec": {
   "display_name": "base",
   "language": "python",
   "name": "python3"
  },
  "language_info": {
   "codemirror_mode": {
    "name": "ipython",
    "version": 3
   },
   "file_extension": ".py",
   "mimetype": "text/x-python",
   "name": "python",
   "nbconvert_exporter": "python",
   "pygments_lexer": "ipython3",
   "version": "3.11.9"
  }
 },
 "nbformat": 4,
 "nbformat_minor": 2
}
